{
  "nbformat": 4,
  "nbformat_minor": 0,
  "metadata": {
    "colab": {
      "provenance": []
    },
    "kernelspec": {
      "name": "python3",
      "display_name": "Python 3"
    },
    "language_info": {
      "name": "python"
    }
  },
  "cells": [
    {
      "cell_type": "code",
      "execution_count": null,
      "metadata": {
        "colab": {
          "base_uri": "https://localhost:8080/"
        },
        "id": "9U_FQFbjaAXw",
        "outputId": "01ae9bd3-8264-4ca8-ed0b-43035d37442f"
      },
      "outputs": [
        {
          "output_type": "stream",
          "name": "stdout",
          "text": [
            "  activity_comment  activity_id activity_properties assay_chembl_id  \\\n",
            "0              NaN        33969                  []    CHEMBL643384   \n",
            "1              NaN        37563                  []    CHEMBL643384   \n",
            "2              NaN        37565                  []    CHEMBL643384   \n",
            "3              NaN        38902                  []    CHEMBL643384   \n",
            "4              NaN        41170                  []    CHEMBL643384   \n",
            "\n",
            "                                   assay_description assay_type  \\\n",
            "0  Inhibitory concentration against acetylcholine...          B   \n",
            "1  Inhibitory concentration against acetylcholine...          B   \n",
            "2  Inhibitory concentration against acetylcholine...          B   \n",
            "3  Inhibitory concentration against acetylcholine...          B   \n",
            "4  Inhibitory concentration against acetylcholine...          B   \n",
            "\n",
            "   assay_variant_accession  assay_variant_mutation bao_endpoint   bao_format  \\\n",
            "0                      NaN                     NaN  BAO_0000190  BAO_0000357   \n",
            "1                      NaN                     NaN  BAO_0000190  BAO_0000357   \n",
            "2                      NaN                     NaN  BAO_0000190  BAO_0000357   \n",
            "3                      NaN                     NaN  BAO_0000190  BAO_0000357   \n",
            "4                      NaN                     NaN  BAO_0000190  BAO_0000357   \n",
            "\n",
            "   ... target_organism      target_pref_name target_tax_id text_value toid  \\\n",
            "0  ...    Homo sapiens  Acetylcholinesterase          9606        NaN  NaN   \n",
            "1  ...    Homo sapiens  Acetylcholinesterase          9606        NaN  NaN   \n",
            "2  ...    Homo sapiens  Acetylcholinesterase          9606        NaN  NaN   \n",
            "3  ...    Homo sapiens  Acetylcholinesterase          9606        NaN  NaN   \n",
            "4  ...    Homo sapiens  Acetylcholinesterase          9606        NaN  NaN   \n",
            "\n",
            "   type  units    uo_units upper_value  value  \n",
            "0  IC50     uM  UO_0000065         NaN   0.75  \n",
            "1  IC50     uM  UO_0000065         NaN   0.10  \n",
            "2  IC50     uM  UO_0000065         NaN  50.00  \n",
            "3  IC50     uM  UO_0000065         NaN   0.30  \n",
            "4  IC50     uM  UO_0000065         NaN   0.80  \n",
            "\n",
            "[5 rows x 45 columns]\n",
            "  molecule_chembl_id                                   canonical_smiles  \\\n",
            "0       CHEMBL133897              CCOc1nn(-c2cccc(OCc3ccccc3)c2)c(=O)o1   \n",
            "1       CHEMBL336398         O=C(N1CCCCC1)n1nc(-c2ccc(Cl)cc2)nc1SCC1CC1   \n",
            "2       CHEMBL131588  CN(C(=O)n1nc(-c2ccc(Cl)cc2)nc1SCC(F)(F)F)c1ccccc1   \n",
            "3       CHEMBL130628      O=C(N1CCCCC1)n1nc(-c2ccc(Cl)cc2)nc1SCC(F)(F)F   \n",
            "4       CHEMBL130478          CSc1nc(-c2ccc(OC(F)(F)F)cc2)nn1C(=O)N(C)C   \n",
            "\n",
            "   standard_value  \n",
            "0           750.0  \n",
            "1           100.0  \n",
            "2         50000.0  \n",
            "3           300.0  \n",
            "4           800.0  \n"
          ]
        }
      ],
      "source": [
        "import pandas as pd\n",
        "\n",
        "# Loading data files\n",
        "file1 = \"AChE_Bioactivity_data_1.csv\"\n",
        "df1 = pd.read_csv(file1)\n",
        "print(df1.head())\n",
        "\n",
        "file2 = \"AChE_Bioactivity_data_2.csv\"\n",
        "df2 = pd.read_csv(file2)\n",
        "print(df2.head())"
      ]
    },
    {
      "cell_type": "markdown",
      "source": [],
      "metadata": {
        "id": "ltIR034NKDeG"
      }
    },
    {
      "cell_type": "code",
      "source": [
        "# Merge datasets\n",
        "merged_df = pd.concat([df1, df2], axis=0)\n",
        "merged_df.to_csv('merged_data.csv', index=False)\n",
        "print(merged_df.head())"
      ],
      "metadata": {
        "id": "rm35ehIMba0l",
        "colab": {
          "base_uri": "https://localhost:8080/"
        },
        "outputId": "153829be-ed0a-49cd-b147-a637bb1b8ed6"
      },
      "execution_count": null,
      "outputs": [
        {
          "output_type": "stream",
          "name": "stdout",
          "text": [
            "  activity_comment  activity_id activity_properties assay_chembl_id  \\\n",
            "0              NaN      33969.0                  []    CHEMBL643384   \n",
            "1              NaN      37563.0                  []    CHEMBL643384   \n",
            "2              NaN      37565.0                  []    CHEMBL643384   \n",
            "3              NaN      38902.0                  []    CHEMBL643384   \n",
            "4              NaN      41170.0                  []    CHEMBL643384   \n",
            "\n",
            "                                   assay_description assay_type  \\\n",
            "0  Inhibitory concentration against acetylcholine...          B   \n",
            "1  Inhibitory concentration against acetylcholine...          B   \n",
            "2  Inhibitory concentration against acetylcholine...          B   \n",
            "3  Inhibitory concentration against acetylcholine...          B   \n",
            "4  Inhibitory concentration against acetylcholine...          B   \n",
            "\n",
            "   assay_variant_accession  assay_variant_mutation bao_endpoint   bao_format  \\\n",
            "0                      NaN                     NaN  BAO_0000190  BAO_0000357   \n",
            "1                      NaN                     NaN  BAO_0000190  BAO_0000357   \n",
            "2                      NaN                     NaN  BAO_0000190  BAO_0000357   \n",
            "3                      NaN                     NaN  BAO_0000190  BAO_0000357   \n",
            "4                      NaN                     NaN  BAO_0000190  BAO_0000357   \n",
            "\n",
            "   ... target_organism      target_pref_name target_tax_id text_value toid  \\\n",
            "0  ...    Homo sapiens  Acetylcholinesterase        9606.0        NaN  NaN   \n",
            "1  ...    Homo sapiens  Acetylcholinesterase        9606.0        NaN  NaN   \n",
            "2  ...    Homo sapiens  Acetylcholinesterase        9606.0        NaN  NaN   \n",
            "3  ...    Homo sapiens  Acetylcholinesterase        9606.0        NaN  NaN   \n",
            "4  ...    Homo sapiens  Acetylcholinesterase        9606.0        NaN  NaN   \n",
            "\n",
            "   type  units    uo_units upper_value  value  \n",
            "0  IC50     uM  UO_0000065         NaN   0.75  \n",
            "1  IC50     uM  UO_0000065         NaN   0.10  \n",
            "2  IC50     uM  UO_0000065         NaN  50.00  \n",
            "3  IC50     uM  UO_0000065         NaN   0.30  \n",
            "4  IC50     uM  UO_0000065         NaN   0.80  \n",
            "\n",
            "[5 rows x 45 columns]\n"
          ]
        }
      ]
    },
    {
      "cell_type": "code",
      "source": [
        "!pip install pandas numpy scikit-learn\n",
        "\n",
        "import pandas as pd\n",
        "from sklearn.model_selection import train_test_split\n",
        "from sklearn.preprocessing import StandardScaler, OneHotEncoder\n",
        "from sklearn.impute import SimpleImputer\n",
        "from sklearn.compose import ColumnTransformer\n",
        "from sklearn.pipeline import Pipeline"
      ],
      "metadata": {
        "colab": {
          "base_uri": "https://localhost:8080/"
        },
        "id": "Ey6pt3wCbmHv",
        "outputId": "39583531-2f89-4c4f-aec5-650bddb02f43"
      },
      "execution_count": null,
      "outputs": [
        {
          "output_type": "stream",
          "name": "stdout",
          "text": [
            "Requirement already satisfied: pandas in /usr/local/lib/python3.10/dist-packages (1.5.3)\n",
            "Requirement already satisfied: numpy in /usr/local/lib/python3.10/dist-packages (1.23.5)\n",
            "Requirement already satisfied: scikit-learn in /usr/local/lib/python3.10/dist-packages (1.2.2)\n",
            "Requirement already satisfied: python-dateutil>=2.8.1 in /usr/local/lib/python3.10/dist-packages (from pandas) (2.8.2)\n",
            "Requirement already satisfied: pytz>=2020.1 in /usr/local/lib/python3.10/dist-packages (from pandas) (2023.3.post1)\n",
            "Requirement already satisfied: scipy>=1.3.2 in /usr/local/lib/python3.10/dist-packages (from scikit-learn) (1.11.4)\n",
            "Requirement already satisfied: joblib>=1.1.1 in /usr/local/lib/python3.10/dist-packages (from scikit-learn) (1.3.2)\n",
            "Requirement already satisfied: threadpoolctl>=2.0.0 in /usr/local/lib/python3.10/dist-packages (from scikit-learn) (3.2.0)\n",
            "Requirement already satisfied: six>=1.5 in /usr/local/lib/python3.10/dist-packages (from python-dateutil>=2.8.1->pandas) (1.16.0)\n"
          ]
        }
      ]
    },
    {
      "cell_type": "code",
      "source": [
        "# Loading merged data\n",
        "df = pd.read_csv(\"merged_data.csv\")"
      ],
      "metadata": {
        "colab": {
          "base_uri": "https://localhost:8080/"
        },
        "id": "_XWlF8d4cSqp",
        "outputId": "82716cc8-d939-4ebd-c6a8-6d0bd3990ed6"
      },
      "execution_count": null,
      "outputs": [
        {
          "output_type": "stream",
          "name": "stderr",
          "text": [
            "<ipython-input-41-2badd8557996>:2: DtypeWarning: Columns (0,2,3,4,5,8,9,10,12,13,14,15,17,19,20,23,25,28,30,31,34,35,36,40,41,42) have mixed types. Specify dtype option on import or set low_memory=False.\n",
            "  df = pd.read_csv(\"merged_data.csv\")\n"
          ]
        }
      ]
    },
    {
      "cell_type": "code",
      "source": [
        "# Identifying Target and Bioactivity Values\n",
        "target_protein = \"Acetylcholinesterase\"\n",
        "bioactivity_values = [\"standard_type\", \"standard_relation\", \"standard_value\", \"standard_units\"]"
      ],
      "metadata": {
        "id": "7xpLBOYrdXvU"
      },
      "execution_count": null,
      "outputs": []
    },
    {
      "cell_type": "code",
      "source": [
        "# Filter Relevant Columns\n",
        "relevant_columns = [\"molecule_chembl_id\", \"canonical_smiles\", \"target_chembl_id\"] + bioactivity_values\n",
        "df = df[relevant_columns]"
      ],
      "metadata": {
        "id": "-3l8g48HdbkC"
      },
      "execution_count": null,
      "outputs": []
    },
    {
      "cell_type": "code",
      "source": [
        "!pip install rdkit-pypi\n",
        "!pip install rdkit"
      ],
      "metadata": {
        "colab": {
          "base_uri": "https://localhost:8080/"
        },
        "id": "7F9Q9R_GdpV-",
        "outputId": "3b5c9fb9-7de1-4d4d-f83c-930cba754ef9"
      },
      "execution_count": null,
      "outputs": [
        {
          "output_type": "stream",
          "name": "stdout",
          "text": [
            "Requirement already satisfied: rdkit-pypi in /usr/local/lib/python3.10/dist-packages (2022.9.5)\n",
            "Requirement already satisfied: numpy in /usr/local/lib/python3.10/dist-packages (from rdkit-pypi) (1.23.5)\n",
            "Requirement already satisfied: Pillow in /usr/local/lib/python3.10/dist-packages (from rdkit-pypi) (9.4.0)\n",
            "Requirement already satisfied: rdkit in /usr/local/lib/python3.10/dist-packages (2023.9.4)\n",
            "Requirement already satisfied: numpy in /usr/local/lib/python3.10/dist-packages (from rdkit) (1.23.5)\n",
            "Requirement already satisfied: Pillow in /usr/local/lib/python3.10/dist-packages (from rdkit) (9.4.0)\n"
          ]
        }
      ]
    },
    {
      "cell_type": "code",
      "source": [
        "# Handle Missing Values\n",
        "df.dropna(subset=bioactivity_values, inplace=True)\n",
        "\n",
        "# Data Preprocessing\n",
        "from rdkit import Chem\n",
        "from rdkit.Chem import PandasTools\n",
        "\n",
        "# Convert SMILES strings; handle NaN values\n",
        "try:\n",
        "    PandasTools.AddMoleculeColumnToFrame(df, smilesCol='canonical_smiles', molCol='Molecule')\n",
        "except Exception as e:\n",
        "    print(f\"Error: {e}\")\n",
        "    df['canonical_smiles'].fillna('', inplace=True)\n",
        "    PandasTools.AddMoleculeColumnToFrame(df, smilesCol='canonical_smiles', molCol='Molecule')"
      ],
      "metadata": {
        "colab": {
          "base_uri": "https://localhost:8080/"
        },
        "id": "ET1FzUmfdc-b",
        "outputId": "b18ca5cd-cbbe-4de9-a476-06e250ef4ac3"
      },
      "execution_count": null,
      "outputs": [
        {
          "output_type": "stream",
          "name": "stdout",
          "text": [
            "Error: No registered converter was able to produce a C++ rvalue of type std::basic_string<wchar_t, std::char_traits<wchar_t>, std::allocator<wchar_t> > from this Python object of type float\n"
          ]
        }
      ]
    },
    {
      "cell_type": "code",
      "source": [
        "# Encode Categorical Features\n",
        "categorical_features = [\"standard_type\", \"standard_relation\"]\n",
        "numeric_features = [\"standard_value\"]\n",
        "\n",
        "# Spliting Data into Training and Testing Sets\n",
        "X_train, X_test = train_test_split(df, test_size=0.2, random_state=42)\n",
        "\n",
        "# Creating column transformer\n",
        "preprocessor = ColumnTransformer(\n",
        "    transformers=[\n",
        "        ('num', StandardScaler(), numeric_features),\n",
        "        ('cat', OneHotEncoder(), categorical_features)\n",
        "    ])\n",
        "\n",
        "# Defining pipeline with preprocessing\n",
        "pipeline = Pipeline(steps=[('preprocessor', preprocessor)])\n",
        "\n",
        "# Fit and transform training data\n",
        "X_train_transformed = pipeline.fit_transform(X_train)\n",
        "\n",
        "# Transforming test data\n",
        "X_test_transformed = pipeline.transform(X_test)"
      ],
      "metadata": {
        "id": "MmZxDDnrexAP"
      },
      "execution_count": null,
      "outputs": []
    },
    {
      "cell_type": "code",
      "source": [
        "# Defining a binary target variable (1 for active, 0 for inactive)\n",
        "df['activity'] = (df['standard_value'].notna()).astype(int)\n",
        "\n",
        "# Droping the original 'standard_value' column\n",
        "df.drop('standard_value', axis=1, inplace=True)"
      ],
      "metadata": {
        "id": "CjizMcIre1p2"
      },
      "execution_count": null,
      "outputs": []
    },
    {
      "cell_type": "code",
      "source": [
        "from sklearn.model_selection import train_test_split\n",
        "from sklearn.ensemble import RandomForestClassifier\n",
        "from sklearn.metrics import accuracy_score\n",
        "\n",
        "# Defining features and target\n",
        "features = ['canonical_smiles', 'standard_type', 'standard_units', 'Molecule']\n",
        "target = 'activity'\n",
        "\n",
        "# Spliting the data into train and test sets\n",
        "X_train, X_test, y_train, y_test = train_test_split(df[features], df[target], test_size=0.2, random_state=42)\n",
        "\n",
        "# model\n",
        "model = RandomForestClassifier(random_state=42)\n",
        "model.fit(X_train_transformed, y_train)\n",
        "\n",
        "# predictions on the test set\n",
        "y_pred = model.predict(X_test_transformed)\n",
        "\n",
        "# Evaluating Accuracy\n",
        "accuracy = accuracy_score(y_test, y_pred)\n",
        "print(f'Accuracy: {accuracy}')"
      ],
      "metadata": {
        "colab": {
          "base_uri": "https://localhost:8080/"
        },
        "id": "mtHW55Y0hBdy",
        "outputId": "8e1b2b6d-0bbd-4213-b14d-9e1ef9ab211e"
      },
      "execution_count": null,
      "outputs": [
        {
          "output_type": "stream",
          "name": "stdout",
          "text": [
            "Accuracy: 1.0\n"
          ]
        }
      ]
    },
    {
      "cell_type": "code",
      "source": [
        "from sklearn.model_selection import train_test_split\n",
        "from sklearn.ensemble import RandomForestClassifier\n",
        "from sklearn.feature_extraction.text import TfidfVectorizer\n",
        "from sklearn.metrics import accuracy_score\n",
        "\n",
        "# Defining features and target\n",
        "features = ['canonical_smiles', 'standard_type', 'standard_units', 'Molecule']\n",
        "target = 'activity'\n",
        "\n",
        "# Spliting the data into train and test sets\n",
        "X_train, X_test, y_train, y_test = train_test_split(df[features], df[target], test_size=0.2, random_state=42)\n",
        "\n",
        "# Transform the data using TfidfVectorizer or any other appropriate method\n",
        "vectorizer = TfidfVectorizer()\n",
        "X_train_transformed = vectorizer.fit_transform(X_train['canonical_smiles'])\n",
        "X_test_transformed = vectorizer.transform(X_test['canonical_smiles'])\n",
        "\n",
        "# model\n",
        "model = RandomForestClassifier(random_state=42)\n",
        "model.fit(X_train_transformed, y_train)\n",
        "\n",
        "# predictions on the test set\n",
        "y_pred = model.predict(X_test_transformed)\n",
        "\n",
        "# Evaluating Accuracy\n",
        "accuracy = accuracy_score(y_test, y_pred)\n",
        "print(f'Accuracy: {accuracy}')\n",
        "\n",
        "# Replacing binary indicators with continuous-valued parameters\n",
        "# If there are two classes, consider using the probability of the positive class\n",
        "if len(model.classes_) > 1:\n",
        "    interaction_probability = model.predict_proba(X_test_transformed)[:, 1]\n",
        "else:\n",
        "    interaction_probability = model.predict_proba(X_test_transformed)[:, 0]\n",
        "\n",
        "# Ensuring the length of the DataFrame matches the length of the values\n",
        "df['interaction_probability'] = 0  # Initialize the column with zeros\n",
        "df.loc[df.index[:len(interaction_probability)], 'interaction_probability'] = interaction_probability"
      ],
      "metadata": {
        "colab": {
          "base_uri": "https://localhost:8080/"
        },
        "id": "mLiM8LVoh62b",
        "outputId": "27612601-5221-48a8-ea1c-146bcf2d1b8d"
      },
      "execution_count": null,
      "outputs": [
        {
          "output_type": "stream",
          "name": "stdout",
          "text": [
            "Accuracy: 1.0\n"
          ]
        }
      ]
    },
    {
      "cell_type": "code",
      "source": [
        "# Concatenating DataFrames vertically\n",
        "combined_df = pd.concat([df1, df2], axis=0, ignore_index=True)\n",
        "\n",
        "combined_df = combined_df.drop_duplicates(subset=['canonical_smiles'])\n",
        "\n",
        "# Saving the enhanced DataFrame back to a CSV file or your desired storage\n",
        "combined_df.to_csv('enhanced_data.csv', index=False)"
      ],
      "metadata": {
        "id": "yTdBWcboqXaA"
      },
      "execution_count": null,
      "outputs": []
    },
    {
      "cell_type": "code",
      "source": [
        "import pandas as pd\n",
        "import matplotlib.pyplot as plt\n",
        "\n",
        "# Loading enhanced data\n",
        "enhanced_data_path = 'enhanced_data.csv'\n",
        "enhanced_df = pd.read_csv(enhanced_data_path)\n",
        "\n",
        "# information about the DataFrame\n",
        "print(enhanced_df.info())\n",
        "\n",
        "# Summary statistics for numerical columns\n",
        "print(enhanced_df.describe())\n",
        "\n",
        "# Correlation matrix\n",
        "correlation_matrix = enhanced_df.corr()\n",
        "print(correlation_matrix)\n",
        "\n",
        "# Visualizing correlation matrix\n",
        "plt.figure(figsize=(12, 8))\n",
        "plt.imshow(correlation_matrix, cmap='viridis', interpolation='none', aspect='auto')\n",
        "plt.colorbar()\n",
        "plt.xticks(range(len(correlation_matrix)), correlation_matrix.columns, rotation='vertical')\n",
        "plt.yticks(range(len(correlation_matrix)), correlation_matrix.columns)\n",
        "plt.show()\n",
        "\n",
        "# Distribution of the 'standard_value' column with more bins\n",
        "column_to_visualize = 'standard_value'\n",
        "plt.figure(figsize=(10, 6))\n",
        "plt.hist(enhanced_df[column_to_visualize], bins=100, color='skyblue', edgecolor='black')\n",
        "plt.title(f'Distribution of {column_to_visualize}')\n",
        "plt.xlabel('Values')\n",
        "plt.ylabel('Frequency')\n",
        "plt.show()"
      ],
      "metadata": {
        "colab": {
          "base_uri": "https://localhost:8080/",
          "height": 1000
        },
        "id": "jma0TeNmVisD",
        "outputId": "d23cb986-7ee1-41ae-f7a2-c138331e8297"
      },
      "execution_count": null,
      "outputs": [
        {
          "output_type": "stream",
          "name": "stdout",
          "text": [
            "<class 'pandas.core.frame.DataFrame'>\n",
            "RangeIndex: 8588 entries, 0 to 8587\n",
            "Data columns (total 45 columns):\n",
            " #   Column                     Non-Null Count  Dtype  \n",
            "---  ------                     --------------  -----  \n",
            " 0   activity_comment           1793 non-null   object \n",
            " 1   activity_id                8588 non-null   float64\n",
            " 2   activity_properties        8588 non-null   object \n",
            " 3   assay_chembl_id            8588 non-null   object \n",
            " 4   assay_description          8588 non-null   object \n",
            " 5   assay_type                 8588 non-null   object \n",
            " 6   assay_variant_accession    0 non-null      float64\n",
            " 7   assay_variant_mutation     0 non-null      float64\n",
            " 8   bao_endpoint               8588 non-null   object \n",
            " 9   bao_format                 8588 non-null   object \n",
            " 10  bao_label                  8588 non-null   object \n",
            " 11  canonical_smiles           8587 non-null   object \n",
            " 12  data_validity_comment      577 non-null    object \n",
            " 13  data_validity_description  577 non-null    object \n",
            " 14  document_chembl_id         8588 non-null   object \n",
            " 15  document_journal           7683 non-null   object \n",
            " 16  document_year              7768 non-null   float64\n",
            " 17  ligand_efficiency          4515 non-null   object \n",
            " 18  molecule_chembl_id         8588 non-null   object \n",
            " 19  molecule_pref_name         1197 non-null   object \n",
            " 20  parent_molecule_chembl_id  8588 non-null   object \n",
            " 21  pchembl_value              4597 non-null   float64\n",
            " 22  potential_duplicate        8588 non-null   float64\n",
            " 23  qudt_units                 5903 non-null   object \n",
            " 24  record_id                  8588 non-null   float64\n",
            " 25  relation                   6843 non-null   object \n",
            " 26  src_id                     8588 non-null   float64\n",
            " 27  standard_flag              8588 non-null   float64\n",
            " 28  standard_relation          6843 non-null   object \n",
            " 29  standard_text_value        0 non-null      float64\n",
            " 30  standard_type              8588 non-null   object \n",
            " 31  standard_units             7100 non-null   object \n",
            " 32  standard_upper_value       0 non-null      float64\n",
            " 33  standard_value             6865 non-null   float64\n",
            " 34  target_chembl_id           8588 non-null   object \n",
            " 35  target_organism            8588 non-null   object \n",
            " 36  target_pref_name           8588 non-null   object \n",
            " 37  target_tax_id              8588 non-null   float64\n",
            " 38  text_value                 0 non-null      float64\n",
            " 39  toid                       0 non-null      float64\n",
            " 40  type                       8588 non-null   object \n",
            " 41  units                      6431 non-null   object \n",
            " 42  uo_units                   5945 non-null   object \n",
            " 43  upper_value                32 non-null     float64\n",
            " 44  value                      6865 non-null   float64\n",
            "dtypes: float64(17), object(28)\n",
            "memory usage: 2.9+ MB\n",
            "None\n",
            "        activity_id  assay_variant_accession  assay_variant_mutation  \\\n",
            "count  8.588000e+03                      0.0                     0.0   \n",
            "mean   1.078407e+07                      NaN                     NaN   \n",
            "std    7.504601e+06                      NaN                     NaN   \n",
            "min    3.396900e+04                      NaN                     NaN   \n",
            "25%    2.911559e+06                      NaN                     NaN   \n",
            "50%    1.241594e+07                      NaN                     NaN   \n",
            "75%    1.806102e+07                      NaN                     NaN   \n",
            "max    2.311978e+07                      NaN                     NaN   \n",
            "\n",
            "       document_year  pchembl_value  potential_duplicate     record_id  \\\n",
            "count    7768.000000    4597.000000          8588.000000  8.588000e+03   \n",
            "mean     2011.621267       6.192306             0.021192  1.845453e+06   \n",
            "std         7.184914       1.323547             0.144034  1.101219e+06   \n",
            "min      1976.000000       2.980000             0.000000  9.793000e+03   \n",
            "25%      2008.000000       5.150000             0.000000  8.470038e+05   \n",
            "50%      2013.000000       6.040000             0.000000  1.793888e+06   \n",
            "75%      2017.000000       7.100000             0.000000  2.993469e+06   \n",
            "max      2021.000000      11.100000             1.000000  3.589610e+06   \n",
            "\n",
            "            src_id  standard_flag  standard_text_value  standard_upper_value  \\\n",
            "count  8588.000000    8588.000000                  0.0                   0.0   \n",
            "mean      2.736609       0.729856                  NaN                   NaN   \n",
            "std       5.692585       0.444060                  NaN                   NaN   \n",
            "min       1.000000       0.000000                  NaN                   NaN   \n",
            "25%       1.000000       0.000000                  NaN                   NaN   \n",
            "50%       1.000000       1.000000                  NaN                   NaN   \n",
            "75%       1.000000       1.000000                  NaN                   NaN   \n",
            "max      54.000000       1.000000                  NaN                   NaN   \n",
            "\n",
            "       standard_value  target_tax_id  text_value  toid  upper_value  \\\n",
            "count    6.865000e+03         8588.0         0.0   0.0    32.000000   \n",
            "mean     2.195968e+12         9606.0         NaN   NaN   100.167375   \n",
            "std      9.838448e+13            0.0         NaN   NaN   256.336350   \n",
            "min     -1.000000e+02         9606.0         NaN   NaN     0.139000   \n",
            "25%      3.800000e+01         9606.0         NaN   NaN     8.000000   \n",
            "50%      9.000000e+02         9606.0         NaN   NaN     8.000000   \n",
            "75%      1.148000e+04         9606.0         NaN   NaN    44.000000   \n",
            "max      5.888437e+15         9606.0         NaN   NaN  1416.000000   \n",
            "\n",
            "                value  \n",
            "count     6865.000000  \n",
            "mean      3740.515476  \n",
            "std      29471.053882  \n",
            "min       -100.000000  \n",
            "25%          2.710000  \n",
            "50%         12.330000  \n",
            "75%         89.000000  \n",
            "max    1000000.000000  \n",
            "                         activity_id  assay_variant_accession  \\\n",
            "activity_id                 1.000000                      NaN   \n",
            "assay_variant_accession          NaN                      NaN   \n",
            "assay_variant_mutation           NaN                      NaN   \n",
            "document_year               0.871545                      NaN   \n",
            "pchembl_value              -0.124341                      NaN   \n",
            "potential_duplicate        -0.164974                      NaN   \n",
            "record_id                   0.987912                      NaN   \n",
            "src_id                     -0.016523                      NaN   \n",
            "standard_flag               0.045448                      NaN   \n",
            "standard_text_value              NaN                      NaN   \n",
            "standard_upper_value             NaN                      NaN   \n",
            "standard_value             -0.030337                      NaN   \n",
            "target_tax_id                    NaN                      NaN   \n",
            "text_value                       NaN                      NaN   \n",
            "toid                             NaN                      NaN   \n",
            "upper_value                -0.337223                      NaN   \n",
            "value                      -0.119301                      NaN   \n",
            "\n",
            "                         assay_variant_mutation  document_year  pchembl_value  \\\n",
            "activity_id                                 NaN       0.871545      -0.124341   \n",
            "assay_variant_accession                     NaN            NaN            NaN   \n",
            "assay_variant_mutation                      NaN            NaN            NaN   \n",
            "document_year                               NaN       1.000000      -0.070512   \n",
            "pchembl_value                               NaN      -0.070512       1.000000   \n",
            "potential_duplicate                         NaN      -0.197833       0.117725   \n",
            "record_id                                   NaN       0.899304      -0.112046   \n",
            "src_id                                      NaN       0.081586       0.037143   \n",
            "standard_flag                               NaN      -0.052710            NaN   \n",
            "standard_text_value                         NaN            NaN            NaN   \n",
            "standard_upper_value                        NaN            NaN            NaN   \n",
            "standard_value                              NaN      -0.040481      -0.444573   \n",
            "target_tax_id                               NaN            NaN            NaN   \n",
            "text_value                                  NaN            NaN            NaN   \n",
            "toid                                        NaN            NaN            NaN   \n",
            "upper_value                                 NaN      -0.375503            NaN   \n",
            "value                                       NaN      -0.061512      -0.155148   \n",
            "\n",
            "                         potential_duplicate  record_id    src_id  \\\n",
            "activity_id                        -0.164974   0.987912 -0.016523   \n",
            "assay_variant_accession                  NaN        NaN       NaN   \n",
            "assay_variant_mutation                   NaN        NaN       NaN   \n",
            "document_year                      -0.197833   0.899304  0.081586   \n",
            "pchembl_value                       0.117725  -0.112046  0.037143   \n",
            "potential_duplicate                 1.000000  -0.173301 -0.039778   \n",
            "record_id                          -0.173301   1.000000  0.006803   \n",
            "src_id                             -0.039778   0.006803  1.000000   \n",
            "standard_flag                       0.089520   0.023226 -0.357083   \n",
            "standard_text_value                      NaN        NaN       NaN   \n",
            "standard_upper_value                     NaN        NaN       NaN   \n",
            "standard_value                     -0.003684  -0.030351 -0.002657   \n",
            "target_tax_id                            NaN        NaN       NaN   \n",
            "text_value                               NaN        NaN       NaN   \n",
            "toid                                     NaN        NaN       NaN   \n",
            "upper_value                              NaN  -0.342443       NaN   \n",
            "value                               0.039442  -0.110616 -0.013121   \n",
            "\n",
            "                         standard_flag  standard_text_value  \\\n",
            "activity_id                   0.045448                  NaN   \n",
            "assay_variant_accession            NaN                  NaN   \n",
            "assay_variant_mutation             NaN                  NaN   \n",
            "document_year                -0.052710                  NaN   \n",
            "pchembl_value                      NaN                  NaN   \n",
            "potential_duplicate           0.089520                  NaN   \n",
            "record_id                     0.023226                  NaN   \n",
            "src_id                       -0.357083                  NaN   \n",
            "standard_flag                 1.000000                  NaN   \n",
            "standard_text_value                NaN                  NaN   \n",
            "standard_upper_value               NaN                  NaN   \n",
            "standard_value                0.006889                  NaN   \n",
            "target_tax_id                      NaN                  NaN   \n",
            "text_value                         NaN                  NaN   \n",
            "toid                               NaN                  NaN   \n",
            "upper_value                   0.144075                  NaN   \n",
            "value                         0.037492                  NaN   \n",
            "\n",
            "                         standard_upper_value  standard_value  target_tax_id  \\\n",
            "activity_id                               NaN       -0.030337            NaN   \n",
            "assay_variant_accession                   NaN             NaN            NaN   \n",
            "assay_variant_mutation                    NaN             NaN            NaN   \n",
            "document_year                             NaN       -0.040481            NaN   \n",
            "pchembl_value                             NaN       -0.444573            NaN   \n",
            "potential_duplicate                       NaN       -0.003684            NaN   \n",
            "record_id                                 NaN       -0.030351            NaN   \n",
            "src_id                                    NaN       -0.002657            NaN   \n",
            "standard_flag                             NaN        0.006889            NaN   \n",
            "standard_text_value                       NaN             NaN            NaN   \n",
            "standard_upper_value                      NaN             NaN            NaN   \n",
            "standard_value                            NaN        1.000000            NaN   \n",
            "target_tax_id                             NaN             NaN            NaN   \n",
            "text_value                                NaN             NaN            NaN   \n",
            "toid                                      NaN             NaN            NaN   \n",
            "upper_value                               NaN        0.939708            NaN   \n",
            "value                                     NaN       -0.002828            NaN   \n",
            "\n",
            "                         text_value  toid  upper_value     value  \n",
            "activity_id                     NaN   NaN    -0.337223 -0.119301  \n",
            "assay_variant_accession         NaN   NaN          NaN       NaN  \n",
            "assay_variant_mutation          NaN   NaN          NaN       NaN  \n",
            "document_year                   NaN   NaN    -0.375503 -0.061512  \n",
            "pchembl_value                   NaN   NaN          NaN -0.155148  \n",
            "potential_duplicate             NaN   NaN          NaN  0.039442  \n",
            "record_id                       NaN   NaN    -0.342443 -0.110616  \n",
            "src_id                          NaN   NaN          NaN -0.013121  \n",
            "standard_flag                   NaN   NaN     0.144075  0.037492  \n",
            "standard_text_value             NaN   NaN          NaN       NaN  \n",
            "standard_upper_value            NaN   NaN          NaN       NaN  \n",
            "standard_value                  NaN   NaN     0.939708 -0.002828  \n",
            "target_tax_id                   NaN   NaN          NaN       NaN  \n",
            "text_value                      NaN   NaN          NaN       NaN  \n",
            "toid                            NaN   NaN          NaN       NaN  \n",
            "upper_value                     NaN   NaN     1.000000  0.970045  \n",
            "value                           NaN   NaN     0.970045  1.000000  \n"
          ]
        },
        {
          "output_type": "stream",
          "name": "stderr",
          "text": [
            "<ipython-input-62-35931b01b02f>:15: FutureWarning: The default value of numeric_only in DataFrame.corr is deprecated. In a future version, it will default to False. Select only valid columns or specify the value of numeric_only to silence this warning.\n",
            "  correlation_matrix = enhanced_df.corr()\n"
          ]
        },
        {
          "output_type": "display_data",
          "data": {
            "text/plain": [
              "<Figure size 1200x800 with 2 Axes>"
            ],
            "image/png": "[encoded data removed]"
          },
          "metadata": {}
        },
        {
          "output_type": "display_data",
          "data": {
            "text/plain": [
              "<Figure size 1000x600 with 1 Axes>"
            ],
            "image/png": "[encoded data removed]"
          },
          "metadata": {}
        }
      ]
    },
    {
      "cell_type": "code",
      "source": [
        "!pip install rdkit-pypi\n",
        "\n",
        "from rdkit import Chem\n",
        "from rdkit.Chem import AllChem\n",
        "import numpy as np\n",
        "import pandas as pd\n",
        "\n",
        "# Loading enhanced_data.csv file\n",
        "df = pd.read_csv('enhanced_data.csv')\n",
        "\n",
        "# Loading subset of the data\n",
        "subset_df = df.head(100)\n",
        "\n",
        "# function to process SMILES strings and generate Morgan fingerprints\n",
        "def process_smiles(smiles):\n",
        "    try:\n",
        "        mol = Chem.MolFromSmiles(smiles)\n",
        "        if mol is not None:\n",
        "            fingerprint = AllChem.GetMorganFingerprintAsBitVect(mol, 2)\n",
        "            return np.array(list(fingerprint))\n",
        "    except:\n",
        "        pass\n",
        "    return None\n",
        "\n",
        "# function to the subset of data\n",
        "subset_df['morgan_fingerprint'] = subset_df['canonical_smiles'].apply(process_smiles)\n",
        "\n",
        "print(subset_df[['canonical_smiles', 'morgan_fingerprint']])"
      ],
      "metadata": {
        "colab": {
          "base_uri": "https://localhost:8080/"
        },
        "id": "JQvWucAv23Os",
        "outputId": "de7dea94-542a-475a-beb4-26492519dceb"
      },
      "execution_count": null,
      "outputs": [
        {
          "output_type": "stream",
          "name": "stdout",
          "text": [
            "Requirement already satisfied: rdkit-pypi in /usr/local/lib/python3.10/dist-packages (2022.9.5)\n",
            "Requirement already satisfied: numpy in /usr/local/lib/python3.10/dist-packages (from rdkit-pypi) (1.23.5)\n",
            "Requirement already satisfied: Pillow in /usr/local/lib/python3.10/dist-packages (from rdkit-pypi) (9.4.0)\n",
            "                                     canonical_smiles  \\\n",
            "0               CCOc1nn(-c2cccc(OCc3ccccc3)c2)c(=O)o1   \n",
            "1          O=C(N1CCCCC1)n1nc(-c2ccc(Cl)cc2)nc1SCC1CC1   \n",
            "2   CN(C(=O)n1nc(-c2ccc(Cl)cc2)nc1SCC(F)(F)F)c1ccccc1   \n",
            "3       O=C(N1CCCCC1)n1nc(-c2ccc(Cl)cc2)nc1SCC(F)(F)F   \n",
            "4           CSc1nc(-c2ccc(OC(F)(F)F)cc2)nn1C(=O)N(C)C   \n",
            "..                                                ...   \n",
            "95  CN1CC[C@@]2(C)c3cc(OC(=O)NCCCCCCCCN4CCOCC4)ccc...   \n",
            "96   CC[N+](C)(CC)CCS/C(=N\\O)C(=O)c1ccc(C#N)cc1.[Cl-]   \n",
            "97  CN1CC[C@@]2(C)c3cc(OC(=O)NCCCCCCCN4CCOCC4)ccc3...   \n",
            "98     COC1CCCN(Cc2ccc(CNCCN3CCNC3=C(C#N)C#N)o2)C1.Cl   \n",
            "99       C[N+](C)(C)CCS/C(=N\\O)C(=O)c1ccc(Br)cc1.[I-]   \n",
            "\n",
            "                                   morgan_fingerprint  \n",
            "0   [0, 0, 0, 0, 0, 0, 0, 0, 0, 0, 0, 0, 0, 0, 0, ...  \n",
            "1   [1, 0, 1, 0, 0, 0, 0, 0, 0, 0, 0, 0, 0, 0, 0, ...  \n",
            "2   [0, 0, 0, 0, 0, 0, 0, 0, 0, 0, 0, 0, 0, 0, 0, ...  \n",
            "3   [0, 0, 1, 0, 0, 0, 0, 0, 0, 0, 0, 0, 0, 0, 0, ...  \n",
            "4   [0, 0, 0, 0, 0, 0, 0, 0, 0, 0, 0, 0, 0, 0, 0, ...  \n",
            "..                                                ...  \n",
            "95  [0, 0, 0, 0, 0, 0, 0, 0, 0, 0, 0, 0, 0, 0, 0, ...  \n",
            "96  [0, 0, 0, 0, 0, 0, 0, 0, 0, 0, 0, 0, 0, 0, 1, ...  \n",
            "97  [0, 0, 0, 0, 0, 0, 0, 0, 0, 0, 0, 0, 0, 0, 0, ...  \n",
            "98  [0, 0, 0, 0, 0, 0, 0, 0, 0, 0, 0, 0, 0, 0, 0, ...  \n",
            "99  [0, 0, 0, 0, 0, 0, 0, 0, 0, 0, 0, 0, 0, 0, 1, ...  \n",
            "\n",
            "[100 rows x 2 columns]\n"
          ]
        },
        {
          "output_type": "stream",
          "name": "stderr",
          "text": [
            "<ipython-input-60-cc4b9f1e1b87>:26: SettingWithCopyWarning: \n",
            "A value is trying to be set on a copy of a slice from a DataFrame.\n",
            "Try using .loc[row_indexer,col_indexer] = value instead\n",
            "\n",
            "See the caveats in the documentation: https://pandas.pydata.org/pandas-docs/stable/user_guide/indexing.html#returning-a-view-versus-a-copy\n",
            "  subset_df['morgan_fingerprint'] = subset_df['canonical_smiles'].apply(process_smiles)\n"
          ]
        }
      ]
    }
  ]
}